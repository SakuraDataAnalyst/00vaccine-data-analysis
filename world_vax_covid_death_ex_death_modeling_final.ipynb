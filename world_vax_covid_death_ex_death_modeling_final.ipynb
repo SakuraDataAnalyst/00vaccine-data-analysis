{
 "cells": [
  {
   "cell_type": "code",
   "execution_count": 1,
   "id": "b93434b5",
   "metadata": {},
   "outputs": [],
   "source": [
    "import sklearn\n",
    "from sklearn.model_selection import cross_val_score\n",
    "from sklearn.metrics import r2_score\n",
    "import numpy as np"
   ]
  },
  {
   "cell_type": "code",
   "execution_count": 2,
   "id": "cc71ab64",
   "metadata": {},
   "outputs": [],
   "source": [
    "import statsmodels.api as sma\n",
    "from sklearn.base import BaseEstimator, RegressorMixin\n",
    "\n",
    "class SMWrapper(BaseEstimator, RegressorMixin):\n",
    "    \"\"\" A universal sklearn-style wrapper for statsmodels regressors \"\"\"\n",
    "    def __init__(self, model_class, fit_intercept=True):\n",
    "        self.model_class = model_class\n",
    "        self.fit_intercept = fit_intercept\n",
    "    def fit(self, X, y):\n",
    "        if self.fit_intercept:\n",
    "            X = sma.add_constant(X)\n",
    "        self.model_ = self.model_class(y, X)\n",
    "        self.results_ = self.model_.fit()\n",
    "        return self\n",
    "    def predict(self, X):\n",
    "        if self.fit_intercept:\n",
    "            X = sma.add_constant(X)\n",
    "        return self.results_.predict(X)"
   ]
  },
  {
   "cell_type": "code",
   "execution_count": 3,
   "id": "29541c51",
   "metadata": {},
   "outputs": [],
   "source": [
    "def create_Ndose_period_lst(freq,range_end):\n",
    "    lst_1dose=[]\n",
    "    lst_2dose=[]\n",
    "    lst_3dose=[]\n",
    "    for st_lab in range(1,range_end+1,freq):\n",
    "        et_lab = st_lab + freq -1 \n",
    "        lst_1dose.append('1dose_{}_{}m'.format(st_lab,et_lab))\n",
    "        st_lab = et_lab + 1\n",
    "    lst_1dose.append('1dose_{}m+'.format(st_lab))\n",
    "    \n",
    "    for st_lab in range(1,range_end+1,freq):\n",
    "        et_lab = st_lab + freq -1 \n",
    "        lst_2dose.append('2dose_{}_{}m'.format(st_lab,et_lab))\n",
    "        st_lab = et_lab + 1\n",
    "    lst_2dose.append('2dose_{}m+'.format(st_lab))\n",
    "    \n",
    "    for st_lab in range(1,range_end+1,freq):\n",
    "        et_lab = st_lab + freq -1 \n",
    "        lst_3dose.append('3dose_{}_{}m'.format(st_lab,et_lab))\n",
    "        st_lab = et_lab + 1\n",
    "    lst_3dose.append('3dose_{}m+'.format(st_lab))\n",
    "    return lst_1dose,lst_2dose,lst_3dose"
   ]
  },
  {
   "cell_type": "code",
   "execution_count": 4,
   "id": "9819fd01",
   "metadata": {},
   "outputs": [],
   "source": [
    "def create_overall_period_lst(freq,range_end):\n",
    "    lst_overall=[]\n",
    "    for st_lab in range(1,range_end+1,freq):\n",
    "        et_lab = st_lab + freq -1 \n",
    "        lst_overall.append('overall_{}_{}m'.format(st_lab,et_lab))\n",
    "        st_lab = et_lab + 1\n",
    "    lst_overall.append('overall_{}m+'.format(st_lab))\n",
    "    return lst_overall #_1dose,lst_2dose,lst_3dose"
   ]
  },
  {
   "cell_type": "code",
   "execution_count": 6,
   "id": "621669cf",
   "metadata": {},
   "outputs": [],
   "source": [
    "def feature_extraction_st(df,Country_lst,use_lst,start_date,end_date,vax_data_freq,st_per1,st_per2,st_per3):\n",
    "    #['max_1st_rate','max_2nd_rate','max_3rd_rate']\n",
    "    new_df = pd.DataFrame(columns=use_lst)\n",
    "    for Countryname in Country_lst : \n",
    "        tmp_df=df[df['location']==Countryname].reset_index(drop=True)\n",
    "        \n",
    "        tmp_df['max_1st_rate'] = tmp_df['people_vaccinated_per_hundred'].max()\n",
    "        tmp_df['max_2nd_rate'] = tmp_df['people_fully_vaccinated_per_hundred'].max()\n",
    "        tmp_df['max_3rd_rate'] = tmp_df['total_boosters_per_hundred'].max()\n",
    "        \n",
    "        st_1dose = tmp_df[tmp_df['people_vaccinated_per_hundred']>st_per1]['date'].iloc[0]\n",
    "        st_2dose = tmp_df[tmp_df['people_fully_vaccinated_per_hundred']>st_per2]['date'].iloc[0]\n",
    "        st_3dose = tmp_df[tmp_df['total_boosters_per_hundred']>st_per3]['date'].iloc[0]\n",
    "        #total_boosters_per_hundred\n",
    "        print(Countryname,st_1dose,st_2dose,st_3dose)\n",
    "\n",
    "        dict_1dose={}\n",
    "        st = datetime.strptime(st_1dose,'%Y-%m-%d')\n",
    "        for i in range(len(lst_1dose))[:-1]:\n",
    "            et = st + relativedelta(months=+3) # + relativedelta(days=+1)\n",
    "            dict_1dose[lst_1dose[i]] = (str(st)[:10],str(et)[:10])\n",
    "            st = et + relativedelta(days=+vax_data_freq)\n",
    "        et = st + relativedelta(months=+24) # + relativedelta(days=+1)\n",
    "        dict_1dose[lst_1dose[i+1]] = (str(st)[:10],str(et)[:10])\n",
    "\n",
    "        dict_2dose={}\n",
    "        st = datetime.strptime(st_2dose,'%Y-%m-%d')\n",
    "        for i in range(len(lst_2dose))[:-1]:\n",
    "            et = st + relativedelta(months=+vax_data_freq) # + relativedelta(days=+1)\n",
    "            dict_2dose[lst_2dose[i]] = (str(st)[:10],str(et)[:10])\n",
    "            st = et + relativedelta(days=+1)\n",
    "        et = st + relativedelta(months=+24) # + relativedelta(days=+1)\n",
    "        dict_2dose[lst_2dose[i+1]] = (str(st)[:10],str(et)[:10])\n",
    "\n",
    "        dict_3dose={}\n",
    "        st = datetime.strptime(st_3dose,'%Y-%m-%d')\n",
    "        for i in range(len(lst_3dose))[:-1]:\n",
    "            et = st + relativedelta(months=+vax_data_freq) # + relativedelta(days=+1)\n",
    "            dict_3dose[lst_3dose[i]] = (str(st)[:10],str(et)[:10])\n",
    "            st = et + relativedelta(days=+1)\n",
    "        et = st + relativedelta(months=+24) # + relativedelta(days=+1)\n",
    "        dict_3dose[lst_3dose[i+1]] = (str(st)[:10],str(et)[:10])\n",
    "        # labeling catagories\n",
    "        tmp_df['1dose_period']='1st_Null'\n",
    "        for tmp_period in dict_1dose.keys():\n",
    "            tmp_st=dict_1dose[tmp_period][0]\n",
    "            tmp_et=dict_1dose[tmp_period][1]\n",
    "            tmp_df['1dose_period'][(tmp_df['date']>=tmp_st) & (tmp_df['date']<=tmp_et)]=tmp_period\n",
    "\n",
    "        tmp_df['2dose_period']='2nd_Null'\n",
    "        for tmp_period in dict_2dose.keys():\n",
    "            tmp_st=dict_2dose[tmp_period][0]\n",
    "            tmp_et=dict_2dose[tmp_period][1]\n",
    "            tmp_df['2dose_period'][(tmp_df['date']>=tmp_st) & (tmp_df['date']<=tmp_et)]=tmp_period\n",
    "\n",
    "        tmp_df['3dose_period']='3rd_Null'\n",
    "        for tmp_period in dict_3dose.keys():\n",
    "            tmp_st=dict_3dose[tmp_period][0]\n",
    "            tmp_et=dict_3dose[tmp_period][1]\n",
    "            tmp_df['3dose_period'][(tmp_df['date']>=tmp_st) & (tmp_df['date']<=tmp_et)]=tmp_period\n",
    "\n",
    "        one_hot = pd.get_dummies(tmp_df['1dose_period'])\n",
    "        # Drop column 1dose_period as it is now encoded\n",
    "        tmp_df = tmp_df.drop('1dose_period',axis = 1)\n",
    "        # Join the encoded df\n",
    "        tmp_df = tmp_df.join(one_hot)\n",
    "\n",
    "        one_hot = pd.get_dummies(tmp_df['2dose_period'])\n",
    "        # Drop column 2dose_period as it is now encoded\n",
    "        tmp_df = tmp_df.drop('2dose_period',axis = 1)\n",
    "        # Join the encoded df\n",
    "        tmp_df = tmp_df.join(one_hot)\n",
    "\n",
    "        one_hot = pd.get_dummies(tmp_df['3dose_period'])\n",
    "        # Drop column 3dose_period as it is now encoded\n",
    "        tmp_df = tmp_df.drop('3dose_period',axis = 1)\n",
    "        # Join the encoded df\n",
    "        tmp_df = tmp_df.join(one_hot)\n",
    "        #\n",
    "        plt_df = pd.DataFrame(columns=use_lst)\n",
    "        ####################################################\n",
    "        #new_df = pd.DataFrame(columns=use_lst)\n",
    "        plt_df = pd.concat([plt_df,tmp_df])[use_lst]\n",
    "        plt_df = plt_df.fillna(method='bfill').dropna(subset=['new_deaths','new_deaths_smoothed','excess_mortality']).fillna(int(0))\n",
    "        plt_df = plt_df[plt_df['date']>=start_date].reset_index(drop=True)\n",
    "        plt_df = plt_df[plt_df['date']<=end_date].reset_index(drop=True)\n",
    "        if plt_df['excess_mortality'].unique().shape[0]<=5:\n",
    "            print('****skipping {} data for lack of excess_mortality.'.format(Countryname))\n",
    "            continue\n",
    "        if plt_df['new_deaths_smoothed'].unique().shape[0]<=10:\n",
    "            print('****skipping {} data for lack of new_deaths_smoothed.'.format(Countryname))\n",
    "            continue\n",
    "        if plt_df['new_deaths_smoothed'].max() == 0:\n",
    "            continue\n",
    "        \n",
    "        plt_df['excess_mortality_Norm'] = plt_df['excess_mortality']/plt_df['excess_mortality'].max()\n",
    "        plt_df['new_deaths_smoothed_Norm'] = plt_df['new_deaths_smoothed']/plt_df['new_deaths_smoothed'].max()\n",
    "        # re-estimate excess mortality\n",
    "        plt_df['re_est_ex_mortality'] = (plt_df['excess_mortality']+100)/(plt_df['excess_mortality'].min()+100)-1\n",
    "        plt_df['re_est_ex_mortality_Norm'] = plt_df['re_est_ex_mortality']/plt_df['re_est_ex_mortality'].max()\n",
    "        plt_df['weekday'] = pd.to_datetime(plt_df['date']).dt.day_name().tolist()\n",
    "        \n",
    "        new_df = pd.concat([new_df,plt_df]).reset_index(drop=True)\n",
    "        #print(dict_1dose,dict_2dose,dict_3dose)\n",
    "    return new_df"
   ]
  },
  {
   "cell_type": "code",
   "execution_count": 7,
   "id": "403ebf4f",
   "metadata": {},
   "outputs": [],
   "source": [
    "def feature_extraction_overall(df,Country_lst,use_lst,start_date_data,start_date_ref,end_date_data,vax_data_freq):\n",
    "    new_df = pd.DataFrame(columns=use_lst)\n",
    "    for Countryname in Country_lst : \n",
    "        tmp_df=df[df['location']==Countryname].reset_index(drop=True)\n",
    "        \n",
    "        dict_overall={}\n",
    "        st = datetime.strptime(start_date_ref,'%Y-%m-%d')\n",
    "        for i in range(len(lst_overall))[:-1]:\n",
    "            et = st + relativedelta(months=+3) # + relativedelta(days=+1)\n",
    "            dict_overall[lst_overall[i]] = (str(st)[:10],str(et)[:10])\n",
    "            st = et + relativedelta(days=+vax_data_freq)\n",
    "        et = st + relativedelta(months=+24) # + relativedelta(days=+1)\n",
    "        dict_overall[lst_overall[i+1]] = (str(st)[:10],str(et)[:10])\n",
    "\n",
    "        # labeling catagories\n",
    "        tmp_df['overall_period']='overall_Null'\n",
    "        for tmp_period in dict_overall.keys():\n",
    "            tmp_st=dict_overall[tmp_period][0]\n",
    "            tmp_et=dict_overall[tmp_period][1]\n",
    "            tmp_df['overall_period'][(tmp_df['date']>=tmp_st) & (tmp_df['date']<=tmp_et)]=tmp_period\n",
    "\n",
    "        one_hot = pd.get_dummies(tmp_df['overall_period'])\n",
    "        # Drop column 1dose_period as it is now encoded\n",
    "        tmp_df = tmp_df.drop('overall_period',axis = 1)\n",
    "        # Join the encoded df\n",
    "        tmp_df = tmp_df.join(one_hot)\n",
    "        \n",
    "        plt_df = pd.DataFrame(columns=use_lst)\n",
    "        ####################################################\n",
    "        plt_df = pd.concat([plt_df,tmp_df])[use_lst]\n",
    "        plt_df = plt_df.fillna(method='bfill').dropna(subset=['new_deaths','new_deaths_smoothed','excess_mortality']).fillna(int(0))\n",
    "        plt_df = plt_df[plt_df['date']>=start_date_data].reset_index(drop=True)\n",
    "        plt_df = plt_df[plt_df['date']<=end_date_data].reset_index(drop=True)\n",
    "        if plt_df['excess_mortality'].unique().shape[0]<=5:\n",
    "            print('****skipping {} data for lack of excess_mortality.'.format(Countryname))\n",
    "            continue\n",
    "        if plt_df['new_deaths_smoothed'].unique().shape[0]<=10:\n",
    "            print('****skipping {} data for lack of new_deaths_smoothed.'.format(Countryname))\n",
    "            continue\n",
    "        if plt_df['new_deaths_smoothed'].max() == 0:\n",
    "            continue\n",
    "        \n",
    "        plt_df['excess_mortality_Norm'] = plt_df['excess_mortality']/plt_df['excess_mortality'].max()\n",
    "        plt_df['new_deaths_smoothed_Norm'] = plt_df['new_deaths_smoothed']/plt_df['new_deaths_smoothed'].max()\n",
    "        # re-estimate excess mortality\n",
    "        plt_df['re_est_ex_mortality'] = (plt_df['excess_mortality']+100)/(plt_df['excess_mortality'].min()+100)-1\n",
    "        plt_df['re_est_ex_mortality_Norm'] = plt_df['re_est_ex_mortality']/plt_df['re_est_ex_mortality'].max()\n",
    "        plt_df['weekday'] = pd.to_datetime(plt_df['date']).dt.day_name().tolist()\n",
    "        \n",
    "        new_df = pd.concat([new_df,plt_df]).reset_index(drop=True)\n",
    "        #print(plt_df.tail(50))\n",
    "    return new_df"
   ]
  },
  {
   "cell_type": "code",
   "execution_count": 9,
   "id": "f2410313",
   "metadata": {},
   "outputs": [],
   "source": [
    "from sklearn import datasets, linear_model\n",
    "import statsmodels.api as sma\n",
    "from sklearn.metrics import mean_squared_error\n",
    "\n",
    "def run_new_model(new_df,mdl_x_lst,mdl_y_lst):\n",
    "    print(new_df[mdl_x_lst + mdl_y_lst].corr())\n",
    "    x = new_df[mdl_x_lst].values.astype('float64')\n",
    "    y = new_df[mdl_y_lst].values.astype('float64')\n",
    "\n",
    "    # Linear Regression\n",
    "    X2  = sma.add_constant(x)\n",
    "\n",
    "    est  = sma.OLS(y, X2)\n",
    "    lr_mdl  = est.fit()\n",
    "    y_pred = lr_mdl.predict(X2)\n",
    "    rmse = mean_squared_error(y,y_pred)\n",
    "    r2 = r2_score(y,y_pred)\n",
    "    \n",
    "    print('[{}] Self-Rmse for {} is : {}\\nSelf-R2 is : {}'.format('LR_MDL','All',rmse,r2))\n",
    "    r2_score_lst = cross_val_score(SMWrapper(sma.OLS), x, y, scoring='r2')\n",
    "    mean_r2_score = np.mean(r2_score_lst)\n",
    "    tmp_lst = cross_val_score(SMWrapper(sma.OLS), x, y, scoring='neg_mean_squared_error') #neg_root_mean_squared_error  \n",
    "    rmse_lst = [x*(-1) for x in tmp_lst]\n",
    "    mean_rmse = np.mean(rmse_lst)\n",
    "    print('Cross-validataion R2 : {}.'.format(r2_score_lst))\n",
    "    print('\\033[1m' + 'Cross-validataion R2 average : {}.'.format(mean_r2_score) + '\\033[0m')\n",
    "    print('Cross-validataion mse : {}.'.format(rmse_lst))\n",
    "    print('\\033[1m' + 'Cross-validataion mse average : {}.'.format(mean_rmse) + '\\033[0m')\n",
    "\n",
    "    #print(lr_mdl.summary())\n",
    "\n",
    "    # create result DataFrame\n",
    "    res_df = pd.DataFrame()\n",
    "    res_df['params'] = mdl_x_lst\n",
    "    res_df['linear_weights'] = np.around(lr_mdl.params[1:], decimals=6, out=None)  \n",
    "\n",
    "    res_df['p_value'] = np.around(lr_mdl.pvalues[1:], decimals=6, out=None)  \n",
    "    print('[{}] Intercept is : {}'.format('LR_MDL',np.around(lr_mdl.params[0], decimals=6, out=None)))\n",
    "    print('\\033[1m' + 'LR model coeffecients.' + '\\033[0m')\n",
    "    print(res_df)\n",
    "    return lr_mdl, res_df, mean_r2_score, mean_rmse\n"
   ]
  },
  {
   "cell_type": "code",
   "execution_count": 10,
   "id": "06da70e7",
   "metadata": {},
   "outputs": [],
   "source": [
    "from sklearn import datasets, linear_model\n",
    "import statsmodels.api as sma\n",
    "from sklearn.metrics import mean_squared_error\n",
    "\n",
    "def run_silent_model(new_df,mdl_x_lst,mdl_y_lst):\n",
    "    print(new_df[mdl_x_lst + mdl_y_lst].corr())\n",
    "    x = new_df[mdl_x_lst].values.astype('float64')\n",
    "    y = new_df[mdl_y_lst].values.astype('float64')\n",
    "\n",
    "    # Linear Regression\n",
    "    X2  = sma.add_constant(x)\n",
    "\n",
    "    est  = sma.OLS(y, X2)\n",
    "    lr_mdl  = est.fit()\n",
    "    y_pred = lr_mdl.predict(X2)\n",
    "    rmse = mean_squared_error(y,y_pred)\n",
    "    r2 = r2_score(y,y_pred)\n",
    "    \n",
    "    r2_score_lst = cross_val_score(SMWrapper(sma.OLS), x, y, scoring='r2')\n",
    "    mean_r2_score = np.mean(r2_score_lst)\n",
    "    tmp_lst = cross_val_score(SMWrapper(sma.OLS), x, y, scoring='neg_mean_squared_error')  \n",
    "    rmse_lst = [x*(-1) for x in tmp_lst]\n",
    "    mean_rmse = np.mean(rmse_lst)\n",
    "    #print(lr_mdl.summary())\n",
    "\n",
    "    # create result DataFrame (62 countries)\n",
    "    res_df = pd.DataFrame()\n",
    "    res_df['params'] = mdl_x_lst\n",
    "    res_df['linear_weights'] = np.around(lr_mdl.params[1:], decimals=6, out=None)  #result.params[1:]\n",
    "\n",
    "    res_df['p_value'] = np.around(lr_mdl.pvalues[1:], decimals=6, out=None) # result.pvalues[1:] #p_val\n",
    "    print('[{}] Intercept is : {}'.format('LR_MDL',np.around(lr_mdl.params[0], decimals=6, out=None)))\n",
    "    print('\\033[1m' + 'LR model coeffecients.' + '\\033[0m')\n",
    "    print(res_df)\n",
    "    return lr_mdl, res_df, mean_r2_score, mean_rmse\n",
    "\n"
   ]
  },
  {
   "cell_type": "code",
   "execution_count": 13,
   "id": "851a0f90",
   "metadata": {},
   "outputs": [],
   "source": [
    "def plot_vax_rate(df,Countryname):\n",
    "    tmp_df=df[df['location']==Countryname].reset_index(drop=True)\n",
    "    # fix missing values\n",
    "    for i in range(1,tmp_df.shape[0]):\n",
    "        if np.isnan(tmp_df['people_vaccinated_per_hundred'][i]):\n",
    "            tmp_df['people_vaccinated_per_hundred'][i] = tmp_df['people_vaccinated_per_hundred'][i-1]\n",
    "        if np.isnan(tmp_df['people_fully_vaccinated_per_hundred'][i]):\n",
    "            tmp_df['people_fully_vaccinated_per_hundred'][i]= tmp_df['people_fully_vaccinated_per_hundred'][i-1]\n",
    "        if np.isnan(tmp_df['total_boosters_per_hundred'][i]):\n",
    "            tmp_df['total_boosters_per_hundred'][i] = tmp_df['total_boosters_per_hundred'][i-1]\n",
    "\n",
    "\n",
    "    save_path = 'results/Vax_rate/' + Countryname + '/'\n",
    "    os.makedirs(save_path,exist_ok=True)\n",
    "\n",
    "    fig_size=(10,5)\n",
    "    n_dpi=120\n",
    "\n",
    "    fig,ax = plt.subplots()\n",
    "    fmt = mdates.MonthLocator(interval=1)\n",
    "    ax.xaxis.set_major_locator(fmt)\n",
    "\n",
    "    plt.plot(tmp_df['date'],tmp_df['people_vaccinated_per_hundred'],color='green', alpha=0.2)\n",
    "    plt.plot(tmp_df['date'],tmp_df['people_fully_vaccinated_per_hundred'],color='green', alpha=0.4)\n",
    "    plt.plot(tmp_df['date'],tmp_df['total_boosters_per_hundred'],color='green', alpha=0.6)\n",
    "    ax.tick_params(axis='x', labelrotation=45)\n",
    "\n",
    "    ax.fill_between(tmp_df['date'], tmp_df['people_vaccinated_per_hundred'],0, color='green', alpha=0.2)\n",
    "    ax.fill_between(tmp_df['date'],tmp_df['people_fully_vaccinated_per_hundred'], 0, color='green', alpha=0.4)\n",
    "    ax.fill_between(tmp_df['date'], tmp_df['total_boosters_per_hundred'], 0, color='green', alpha=0.6)\n",
    "\n",
    "    fig.set_dpi(n_dpi)\n",
    "    fig.set_size_inches(fig_size)\n",
    "    ax.legend(['1st_dose_rate','2nd_dose_rate','3rd_dose_rate'],loc='upper left',fontsize=10)\n",
    "    plt.title('{} Vaccination Rate'.format(Countryname),fontsize=20) \n",
    "    plt.tight_layout()\n",
    "    fig.savefig(' '.join([save_path,'{}_Vaccination_Rate'.format(Countryname)])+str(fig_size)+'.png',facecolor='white', transparent=False) #' '.join([save_path,'【All causes death risk('+EN2CN[sex]+')】',EN2CN[v_status],'VS Unvaccinated'])+str(fig_size)+'.png',facecolor='white', transparent=False)\n"
   ]
  },
  {
   "cell_type": "code",
   "execution_count": 81,
   "id": "5e10b78d",
   "metadata": {},
   "outputs": [],
   "source": [
    "def cal_ex_death_by_covid_vax(df,lr_mdl,Countryname,vax_var_lst,start_date):\n",
    "    tmp_df = df[df['location']==Countryname].reset_index(drop=True)\n",
    "    tmp_df = tmp_df[tmp_df['date']>=start_date].reset_index(drop=True)\n",
    "    ex_death_covid = tmp_df['new_deaths_smoothed'].mean()/tmp_df['new_deaths_smoothed'].max()*lr_mdl.params[1] ##.shape\n",
    "    x = tmp_df.iloc[-1][vax_var_lst].values.astype('float64')\n",
    "    ex_death_vax = np.dot(lr_mdl.params[10:],x)\n",
    "    return ex_death_covid,ex_death_vax"
   ]
  },
  {
   "cell_type": "code",
   "execution_count": 15,
   "id": "9e128894",
   "metadata": {},
   "outputs": [],
   "source": [
    "import pandas as pd\n",
    "import matplotlib.pyplot as plt\n",
    "import matplotlib.dates as mdates\n",
    "import numpy as np\n",
    "import os \n",
    "from datetime import datetime\n",
    "from dateutil.relativedelta import relativedelta\n",
    "\n",
    "plt.rcParams['font.family']='Hiragino Maru Gothic Pro' #'sans-serif' #\n"
   ]
  },
  {
   "cell_type": "code",
   "execution_count": 19,
   "id": "a2324a90",
   "metadata": {},
   "outputs": [],
   "source": [
    "# https://covid.ourworldindata.org/data/owid-covid-data.csv\n",
    "os.makedirs('data',exist_ok=True)\n",
    "#! curl https://covid.ourworldindata.org/data/owid-covid-data.csv > 'data/owid-covid-data-230321.csv'\n",
    "#in_csv='data/owid-covid-data-230321.csv'\n",
    "in_csv='data/owid-covid-data-230213.csv'\n",
    "#in_csv='data/owid-covid-data-1214.csv'\n",
    "df=pd.read_csv(in_csv,engine='python')"
   ]
  },
  {
   "cell_type": "code",
   "execution_count": 27,
   "id": "8cfe101f",
   "metadata": {},
   "outputs": [],
   "source": [
    "in_csv_1214='data/owid-covid-data-1214.csv'\n",
    "df_1214=pd.read_csv(in_csv_1214,engine='python')\n"
   ]
  },
  {
   "cell_type": "code",
   "execution_count": null,
   "id": "58e7c631",
   "metadata": {},
   "outputs": [],
   "source": []
  },
  {
   "cell_type": "markdown",
   "id": "00701944",
   "metadata": {},
   "source": [
    "## Hparam selection : filtering out countries with low booster rate (booster_per_th)\n",
    "create use_Country_lst"
   ]
  },
  {
   "cell_type": "code",
   "execution_count": 20,
   "id": "e6886119",
   "metadata": {},
   "outputs": [],
   "source": [
    "vax_rate_dic={}\n",
    "# 'Sweden','Malta', shows partial record for 3rd dose vaccination rate\n",
    "#'Sweden','Malta','Mexico','Brunei','French Polynesia','Mauritius','Mongolia','New Caledonia','Qatar','Seychelles',\n",
    "#rm_vax_Country_lst = ['Sweden','Brunei','French Polynesia','Malta','Mauritius','Mexico','Mongolia','New Caledonia','Qatar','Seychelles',]\n",
    "rm_Country_lst = ['Sweden','Malta','Mexico','Brunei','French Polynesia','Mauritius','Mongolia','New Caledonia','Qatar','Seychelles','Africa','Asia','Europe','European Union','High income','Low income','Lower middle income','North America','South America','Upper middle income','World','Western Sahara','Oceania']\n",
    "booster_per_lst = []\n",
    "\n",
    "for Countryname in df.location.unique().tolist():\n",
    "    if Countryname in rm_Country_lst : continue \n",
    "    tmp_df=df[df['location']==Countryname].reset_index(drop=True)\n",
    "    if tmp_df['total_boosters_per_hundred'].max()>0:\n",
    "        booster_per_lst.append(tmp_df['total_boosters_per_hundred'].max()) #vax_rate_dic[Countryname] = [tmp_df['people_vaccinated_per_hundred'].max(),tmp_df['people_fully_vaccinated_per_hundred'].max(),tmp_df['total_boosters_per_hundred'].max()]\n",
    "\n",
    "booster_per_th = np.median(booster_per_lst)\n",
    "use_Country_lst = []\n",
    "\n",
    "for Countryname in df.location.unique().tolist():\n",
    "    if Countryname in rm_Country_lst : continue \n",
    "    tmp_df=df[df['location']==Countryname].reset_index(drop=True)\n",
    "    if tmp_df['total_boosters_per_hundred'].max() >= booster_per_th :\n",
    "        vax_rate_dic[Countryname] = [tmp_df['people_vaccinated_per_hundred'].max(),tmp_df['people_fully_vaccinated_per_hundred'].max(),tmp_df['total_boosters_per_hundred'].max()]\n",
    "        use_Country_lst.append(Countryname)\n",
    "\n"
   ]
  },
  {
   "cell_type": "code",
   "execution_count": 92,
   "id": "41b6cb4a",
   "metadata": {},
   "outputs": [],
   "source": [
    "# lower than 3rd dose threshold \n",
    "Country_lt_th_lst = []\n",
    "\n",
    "for Countryname in df.location.unique().tolist():\n",
    "    if Countryname in rm_Country_lst : continue \n",
    "    tmp_df=df[df['location']==Countryname].reset_index(drop=True)\n",
    "    if tmp_df['total_boosters_per_hundred'].max() < booster_per_th :\n",
    "        vax_rate_dic[Countryname] = [tmp_df['people_vaccinated_per_hundred'].max(),tmp_df['people_fully_vaccinated_per_hundred'].max(),tmp_df['total_boosters_per_hundred'].max()]\n",
    "        Country_lt_th_lst.append(Countryname)"
   ]
  },
  {
   "cell_type": "code",
   "execution_count": 94,
   "id": "e27f1819",
   "metadata": {},
   "outputs": [
    {
     "data": {
      "text/plain": [
       "(27.38, 96, 96)"
      ]
     },
     "execution_count": 94,
     "metadata": {},
     "output_type": "execute_result"
    }
   ],
   "source": [
    "booster_per_th,len(use_Country_lst),len(Country_lt_th_lst)"
   ]
  },
  {
   "cell_type": "code",
   "execution_count": 24,
   "id": "4c4bc689",
   "metadata": {},
   "outputs": [
    {
     "data": {
      "text/plain": [
       "96"
      ]
     },
     "execution_count": 24,
     "metadata": {},
     "output_type": "execute_result"
    }
   ],
   "source": [
    "len(Country_lt_th_lst)"
   ]
  },
  {
   "cell_type": "markdown",
   "id": "02f60e14",
   "metadata": {},
   "source": [
    "# data processing"
   ]
  },
  {
   "cell_type": "markdown",
   "id": "c3ef2ec6",
   "metadata": {},
   "source": [
    "## from 0.0%"
   ]
  },
  {
   "cell_type": "code",
   "execution_count": 25,
   "id": "4bd408f5",
   "metadata": {},
   "outputs": [],
   "source": [
    "# used UK data from df_1214 instead\n",
    "use_Country_lst\n",
    "use_Country_lst_rm_UK = [x for x in use_Country_lst if x not in ['United Kingdom']]"
   ]
  },
  {
   "cell_type": "code",
   "execution_count": 95,
   "id": "69b837bb",
   "metadata": {},
   "outputs": [
    {
     "name": "stdout",
     "output_type": "stream",
     "text": [
      "United Kingdom 2021-01-10 2021-01-10 2021-09-30\n"
     ]
    },
    {
     "name": "stderr",
     "output_type": "stream",
     "text": [
      "/var/folders/g2/q79cxj1s6d148dc_pt98ggx40000gn/T/ipykernel_30417/3474018985.py:51: SettingWithCopyWarning: \n",
      "A value is trying to be set on a copy of a slice from a DataFrame\n",
      "\n",
      "See the caveats in the documentation: https://pandas.pydata.org/pandas-docs/stable/user_guide/indexing.html#returning-a-view-versus-a-copy\n",
      "  tmp_df['1dose_period'][(tmp_df['date']>=tmp_st) & (tmp_df['date']<=tmp_et)]=tmp_period\n",
      "/var/folders/g2/q79cxj1s6d148dc_pt98ggx40000gn/T/ipykernel_30417/3474018985.py:57: SettingWithCopyWarning: \n",
      "A value is trying to be set on a copy of a slice from a DataFrame\n",
      "\n",
      "See the caveats in the documentation: https://pandas.pydata.org/pandas-docs/stable/user_guide/indexing.html#returning-a-view-versus-a-copy\n",
      "  tmp_df['2dose_period'][(tmp_df['date']>=tmp_st) & (tmp_df['date']<=tmp_et)]=tmp_period\n",
      "/var/folders/g2/q79cxj1s6d148dc_pt98ggx40000gn/T/ipykernel_30417/3474018985.py:63: SettingWithCopyWarning: \n",
      "A value is trying to be set on a copy of a slice from a DataFrame\n",
      "\n",
      "See the caveats in the documentation: https://pandas.pydata.org/pandas-docs/stable/user_guide/indexing.html#returning-a-view-versus-a-copy\n",
      "  tmp_df['3dose_period'][(tmp_df['date']>=tmp_st) & (tmp_df['date']<=tmp_et)]=tmp_period\n"
     ]
    }
   ],
   "source": [
    "# extract UK data from 2022-12-14 data\n",
    "st_per1 = 0.0 #0.5 #1.0 #\n",
    "st_per2 = 0.0 #0.5 #1.0 #\n",
    "st_per3 = 0.5 # 1.0 #0.0\n",
    "freq = 3 #3\n",
    "\n",
    "# creating labels of catetorical classes\n",
    "range_end = 12\n",
    "lst_1dose,lst_2dose,lst_3dose=create_Ndose_period_lst(freq,range_end)\n",
    "lst_max_dose_rate = ['max_1st_rate','max_2nd_rate','max_3rd_rate']\n",
    "\n",
    "use_lst = ['location','date','new_deaths','new_deaths_smoothed','excess_mortality'] + lst_1dose + lst_2dose + lst_3dose + lst_max_dose_rate\n",
    "new_df_UK = pd.DataFrame(columns=use_lst)\n",
    "start_date = '2020-12-01'\n",
    "end_date = '2023-03-31'\n",
    "new_df_UK = feature_extraction_st(df_1214,['United Kingdom'],use_lst,start_date,end_date, freq,st_per1,st_per2,st_per3) # 62 countries"
   ]
  },
  {
   "cell_type": "code",
   "execution_count": 96,
   "id": "f78df959",
   "metadata": {
    "scrolled": true
   },
   "outputs": [
    {
     "name": "stdout",
     "output_type": "stream",
     "text": [
      "Andorra 2021-01-25 2021-03-08 2021-12-12\n",
      "****skipping Andorra data for lack of new_deaths_smoothed.\n",
      "Argentina 2020-12-29 2021-01-19 2021-11-04\n",
      "****skipping Argentina data for lack of excess_mortality.\n",
      "Australia 2021-02-22 2021-03-17 2021-11-05\n"
     ]
    },
    {
     "name": "stderr",
     "output_type": "stream",
     "text": [
      "/var/folders/g2/q79cxj1s6d148dc_pt98ggx40000gn/T/ipykernel_30417/3474018985.py:51: SettingWithCopyWarning: \n",
      "A value is trying to be set on a copy of a slice from a DataFrame\n",
      "\n",
      "See the caveats in the documentation: https://pandas.pydata.org/pandas-docs/stable/user_guide/indexing.html#returning-a-view-versus-a-copy\n",
      "  tmp_df['1dose_period'][(tmp_df['date']>=tmp_st) & (tmp_df['date']<=tmp_et)]=tmp_period\n",
      "/var/folders/g2/q79cxj1s6d148dc_pt98ggx40000gn/T/ipykernel_30417/3474018985.py:57: SettingWithCopyWarning: \n",
      "A value is trying to be set on a copy of a slice from a DataFrame\n",
      "\n",
      "See the caveats in the documentation: https://pandas.pydata.org/pandas-docs/stable/user_guide/indexing.html#returning-a-view-versus-a-copy\n",
      "  tmp_df['2dose_period'][(tmp_df['date']>=tmp_st) & (tmp_df['date']<=tmp_et)]=tmp_period\n",
      "/var/folders/g2/q79cxj1s6d148dc_pt98ggx40000gn/T/ipykernel_30417/3474018985.py:63: SettingWithCopyWarning: \n",
      "A value is trying to be set on a copy of a slice from a DataFrame\n",
      "\n",
      "See the caveats in the documentation: https://pandas.pydata.org/pandas-docs/stable/user_guide/indexing.html#returning-a-view-versus-a-copy\n",
      "  tmp_df['3dose_period'][(tmp_df['date']>=tmp_st) & (tmp_df['date']<=tmp_et)]=tmp_period\n"
     ]
    },
    {
     "name": "stdout",
     "output_type": "stream",
     "text": [
      "Austria 2020-12-27 2021-01-18 2021-09-23\n",
      "Azerbaijan 2021-02-06 2021-04-01 2021-11-08\n",
      "Bahrain 2020-12-23 2021-03-06 2021-12-21\n",
      "****skipping Bahrain data for lack of excess_mortality.\n",
      "Bangladesh 2021-02-07 2021-04-08 2022-01-19\n",
      "****skipping Bangladesh data for lack of excess_mortality.\n",
      "Belarus 2021-02-18 2021-03-12 2021-12-12\n",
      "****skipping Belarus data for lack of excess_mortality.\n",
      "Belgium 2020-12-30 2021-01-18 2021-09-24\n",
      "Bermuda 2021-01-16 2021-02-06 2021-11-05\n",
      "Bhutan 2021-03-27 2021-07-05 2022-01-30\n",
      "****skipping Bhutan data for lack of excess_mortality.\n",
      "Brazil 2021-01-19 2021-02-06 2021-09-30\n",
      "Cambodia 2021-02-12 2021-02-28 2021-08-11\n",
      "****skipping Cambodia data for lack of excess_mortality.\n",
      "Canada 2020-12-16 2021-01-08 2021-10-01\n",
      "Cayman Islands 2021-02-04 2021-02-04 2022-03-25\n",
      "****skipping Cayman Islands data for lack of excess_mortality.\n",
      "Chile 2020-12-25 2021-01-13 2021-08-12\n",
      "China 2021-06-10 2021-08-12 2021-11-05\n",
      "****skipping China data for lack of excess_mortality.\n",
      "Colombia 2021-03-13 2021-03-13 2021-12-18\n",
      "Cook Islands 2021-05-25 2021-06-08 2022-04-04\n",
      "****skipping Cook Islands data for lack of excess_mortality.\n",
      "Costa Rica 2021-01-03 2021-01-25 2021-11-22\n",
      "Cuba 2021-05-12 2021-05-31 2021-12-20\n",
      "Cyprus 2021-01-06 2021-01-23 2021-10-02\n",
      "Czechia 2020-12-27 2021-01-17 2021-10-19\n",
      "Denmark 2020-12-27 2021-01-17 2021-09-20\n",
      "Ecuador 2021-01-21 2021-02-11 2021-11-08\n",
      "El Salvador 2021-02-22 2021-04-13 2021-09-29\n",
      "****skipping El Salvador data for lack of excess_mortality.\n",
      "England 2021-01-10 2021-01-10 2021-09-30\n",
      "****skipping England data for lack of excess_mortality.\n",
      "Estonia 2020-12-27 2020-12-31 2021-05-11\n",
      "Faeroe Islands 2021-01-29 2021-02-06 2021-12-22\n",
      "****skipping Faeroe Islands data for lack of new_deaths_smoothed.\n",
      "Finland 2021-01-17 2021-01-24 2021-10-03\n",
      "France 2021-01-01 2021-01-25 2021-09-07\n",
      "Germany 2020-12-27 2021-01-17 2021-09-18\n",
      "Gibraltar 2021-01-10 2021-01-31 2021-10-08\n",
      "****skipping Gibraltar data for lack of excess_mortality.\n",
      "Greece 2020-12-29 2021-01-19 2021-10-04\n",
      "Guernsey 2021-01-24 2021-01-24 2022-01-11\n",
      "****skipping Guernsey data for lack of excess_mortality.\n",
      "Honduras 2021-02-28 2021-04-09 2021-12-03\n",
      "****skipping Honduras data for lack of excess_mortality.\n",
      "Hong Kong 2021-02-23 2021-03-23 2021-11-14\n",
      "Hungary 2021-01-18 2021-01-18 2021-08-31\n",
      "Iceland 2020-12-30 2021-01-20 2021-08-25\n",
      "Iran 2021-02-17 2021-04-14 2021-11-21\n",
      "Ireland 2020-12-28 2021-01-20 2021-10-05\n",
      "Isle of Man 2021-01-25 2021-01-25 2021-12-22\n",
      "****skipping Isle of Man data for lack of excess_mortality.\n",
      "Israel 2020-12-20 2021-01-10 2021-08-02\n",
      "Italy 2020-12-27 2021-01-17 2021-10-08\n",
      "Japan 2021-02-22 2021-03-15 2021-12-23\n",
      "Jersey 2021-03-14 2021-03-14 2021-09-26\n",
      "****skipping Jersey data for lack of excess_mortality.\n",
      "Kiribati 2021-08-09 2021-09-07 2022-04-04\n",
      "****skipping Kiribati data for lack of excess_mortality.\n",
      "Kuwait 2021-02-15 2021-02-15 2021-11-30\n",
      "Latvia 2020-12-28 2021-01-18 2021-10-29\n",
      "Liechtenstein 2021-01-04 2021-02-02 2021-11-19\n",
      "Lithuania 2020-12-27 2021-01-17 2021-09-17\n",
      "Luxembourg 2020-12-28 2021-01-18 2021-09-30\n",
      "Macao 2021-04-07 2021-04-07 2022-01-26\n",
      "****skipping Macao data for lack of new_deaths_smoothed.\n",
      "Malaysia 2021-02-26 2021-03-19 2021-10-27\n",
      "Maldives 2021-02-02 2021-04-03 2021-11-16\n",
      "Monaco 2021-03-04 2021-03-04 2021-12-21\n",
      "****skipping Monaco data for lack of new_deaths_smoothed.\n",
      "Nauru 2021-04-09 2021-06-29 2022-04-11\n",
      "****skipping Nauru data for lack of excess_mortality.\n",
      "Nepal 2021-02-01 2021-05-07 2022-02-19\n",
      "****skipping Nepal data for lack of excess_mortality.\n",
      "Netherlands 2021-01-08 2021-01-29 2021-11-12\n",
      "New Zealand 2021-02-22 2021-03-15 2021-11-29\n",
      "Niue 2021-06-29 2021-07-06 2022-03-13\n",
      "****skipping Niue data for lack of excess_mortality.\n",
      "Northern Ireland 2021-01-10 2021-01-10 2021-10-05\n",
      "****skipping Northern Ireland data for lack of excess_mortality.\n",
      "Norway 2020-12-28 2021-01-18 2021-10-07\n",
      "Panama 2021-01-20 2021-02-18 2021-10-24\n",
      "Paraguay 2021-02-23 2021-03-16 2021-11-12\n",
      "Peru 2021-02-09 2021-03-02 2021-10-23\n",
      "Pitcairn 2021-06-15 2021-07-27 2022-08-29\n",
      "****skipping Pitcairn data for lack of excess_mortality.\n",
      "Poland 2020-12-28 2021-01-18 2021-10-25\n",
      "Portugal 2021-01-01 2021-01-15 2021-09-17\n",
      "Rwanda 2021-03-05 2021-05-08 2022-01-21\n",
      "****skipping Rwanda data for lack of excess_mortality.\n",
      "Samoa 2021-05-04 2021-06-21 2022-04-04\n",
      "****skipping Samoa data for lack of excess_mortality.\n",
      "San Marino 2021-02-27 2021-03-18 2022-01-09\n",
      "****skipping San Marino data for lack of new_deaths_smoothed.\n",
      "Saudi Arabia 2021-06-27 2021-06-27 2021-11-02\n",
      "****skipping Saudi Arabia data for lack of excess_mortality.\n",
      "Scotland 2021-01-10 2021-01-10 2021-10-13\n",
      "****skipping Scotland data for lack of excess_mortality.\n",
      "Serbia 2021-01-08 2021-02-10 2021-08-23\n",
      "Singapore 2020-12-30 2021-01-18 2021-09-18\n",
      "Slovenia 2020-12-27 2021-01-15 2021-09-20\n",
      "South Korea 2021-02-26 2021-02-26 2021-11-04\n",
      "Spain 2021-01-04 2021-01-19 2021-10-05\n",
      "Sri Lanka 2021-01-29 2021-04-29 2021-12-09\n",
      "****skipping Sri Lanka data for lack of excess_mortality.\n",
      "Switzerland 2020-12-24 2021-01-18 2021-11-13\n",
      "Taiwan 2021-03-22 2021-06-15 2021-12-30\n",
      "Tajikistan 2021-05-07 2021-05-30 2022-03-13\n",
      "****skipping Tajikistan data for lack of excess_mortality.\n",
      "Thailand 2021-03-02 2021-03-24 2021-08-11\n",
      "Tokelau 2021-08-02 2021-10-12 2022-08-08\n",
      "****skipping Tokelau data for lack of excess_mortality.\n",
      "Tonga 2021-04-20 2021-04-27 2022-04-04\n",
      "****skipping Tonga data for lack of excess_mortality.\n",
      "Turkey 2021-02-12 2021-02-12 2021-07-01\n",
      "****skipping Turkey data for lack of excess_mortality.\n",
      "Tuvalu 2021-04-27 2021-08-16 2022-07-21\n",
      "****skipping Tuvalu data for lack of excess_mortality.\n",
      "United Arab Emirates 2021-01-10 2021-01-10 2021-07-15\n",
      "****skipping United Arab Emirates data for lack of excess_mortality.\n",
      "United States 2020-12-13 2020-12-22 2021-09-01\n",
      "Uruguay 2021-02-27 2021-03-29 2021-08-16\n",
      "Uzbekistan 2021-04-06 2021-05-10 2022-03-13\n",
      "Vietnam 2021-03-12 2021-04-30 2022-02-10\n",
      "****skipping Vietnam data for lack of excess_mortality.\n",
      "Wales 2021-01-10 2021-01-17 2021-10-21\n",
      "****skipping Wales data for lack of excess_mortality.\n",
      "Wallis and Futuna 2021-03-23 2021-04-27 2022-04-04\n",
      "****skipping Wallis and Futuna data for lack of excess_mortality.\n"
     ]
    },
    {
     "data": {
      "text/plain": [
       "(37135, 28)"
      ]
     },
     "execution_count": 96,
     "metadata": {},
     "output_type": "execute_result"
    }
   ],
   "source": [
    "st_per1 = 0.0 #0.5 #1.0 #\n",
    "st_per2 = 0.0 #0.5 #1.0 #\n",
    "st_per3 = 0.5 # 1.0 #0.0\n",
    "\n",
    "freq = 3 #3\n",
    "\n",
    "# creating labels of catetorical classes\n",
    "range_end = 12\n",
    "lst_1dose,lst_2dose,lst_3dose=create_Ndose_period_lst(freq,range_end)\n",
    "lst_max_dose_rate = ['max_1st_rate','max_2nd_rate','max_3rd_rate']\n",
    "\n",
    "use_lst = ['location','date','new_deaths','new_deaths_smoothed','excess_mortality'] + lst_1dose + lst_2dose + lst_3dose + lst_max_dose_rate\n",
    "new_df = pd.DataFrame(columns=use_lst)\n",
    "#start_date = '2021-01-01'\n",
    "start_date = '2020-12-01'\n",
    "#start_date = '2020-09-01'\n",
    "end_date = '2023-03-31'\n",
    "#end_date = '2023-01-01'\n",
    "#end_date = '2022-12-31'\n",
    "\n",
    "new_df = feature_extraction_st(df,use_Country_lst_rm_UK,use_lst,start_date,end_date, freq,st_per1,st_per2,st_per3) # 55 countries\n",
    "\n",
    "\n",
    "new_df.shape\n"
   ]
  },
  {
   "cell_type": "code",
   "execution_count": 97,
   "id": "2126c72c",
   "metadata": {},
   "outputs": [],
   "source": [
    "new_df = pd.concat([new_df,new_df_UK]).reset_index(drop=True)"
   ]
  },
  {
   "cell_type": "code",
   "execution_count": 35,
   "id": "ae22334b",
   "metadata": {
    "scrolled": true
   },
   "outputs": [
    {
     "name": "stderr",
     "output_type": "stream",
     "text": [
      "/var/folders/g2/q79cxj1s6d148dc_pt98ggx40000gn/T/ipykernel_30417/2407692322.py:23: SettingWithCopyWarning: \n",
      "A value is trying to be set on a copy of a slice from a DataFrame\n",
      "\n",
      "See the caveats in the documentation: https://pandas.pydata.org/pandas-docs/stable/user_guide/indexing.html#returning-a-view-versus-a-copy\n",
      "  tmp_df['overall_period'][(tmp_df['date']>=tmp_st) & (tmp_df['date']<=tmp_et)]=tmp_period\n"
     ]
    },
    {
     "name": "stdout",
     "output_type": "stream",
     "text": [
      "****skipping Andorra data for lack of new_deaths_smoothed.\n",
      "****skipping Argentina data for lack of excess_mortality.\n",
      "****skipping Bahrain data for lack of excess_mortality.\n",
      "****skipping Bangladesh data for lack of excess_mortality.\n",
      "****skipping Belarus data for lack of excess_mortality.\n",
      "****skipping Bhutan data for lack of excess_mortality.\n",
      "****skipping Cambodia data for lack of excess_mortality.\n",
      "****skipping Cayman Islands data for lack of excess_mortality.\n",
      "****skipping China data for lack of excess_mortality.\n",
      "****skipping Cook Islands data for lack of excess_mortality.\n",
      "****skipping El Salvador data for lack of excess_mortality.\n",
      "****skipping England data for lack of excess_mortality.\n",
      "****skipping Faeroe Islands data for lack of new_deaths_smoothed.\n",
      "****skipping Gibraltar data for lack of excess_mortality.\n",
      "****skipping Guernsey data for lack of excess_mortality.\n",
      "****skipping Honduras data for lack of excess_mortality.\n",
      "****skipping Isle of Man data for lack of excess_mortality.\n",
      "****skipping Jersey data for lack of excess_mortality.\n",
      "****skipping Kiribati data for lack of excess_mortality.\n",
      "****skipping Macao data for lack of new_deaths_smoothed.\n",
      "****skipping Monaco data for lack of new_deaths_smoothed.\n",
      "****skipping Nauru data for lack of excess_mortality.\n",
      "****skipping Nepal data for lack of excess_mortality.\n",
      "****skipping Niue data for lack of excess_mortality.\n",
      "****skipping Northern Ireland data for lack of excess_mortality.\n",
      "****skipping Pitcairn data for lack of excess_mortality.\n",
      "****skipping Rwanda data for lack of excess_mortality.\n",
      "****skipping Samoa data for lack of excess_mortality.\n",
      "****skipping San Marino data for lack of new_deaths_smoothed.\n",
      "****skipping Saudi Arabia data for lack of excess_mortality.\n",
      "****skipping Scotland data for lack of excess_mortality.\n",
      "****skipping Sri Lanka data for lack of excess_mortality.\n",
      "****skipping Tajikistan data for lack of excess_mortality.\n",
      "****skipping Tokelau data for lack of excess_mortality.\n",
      "****skipping Tonga data for lack of excess_mortality.\n",
      "****skipping Turkey data for lack of excess_mortality.\n",
      "****skipping Tuvalu data for lack of excess_mortality.\n",
      "****skipping United Arab Emirates data for lack of excess_mortality.\n",
      "****skipping Vietnam data for lack of excess_mortality.\n",
      "****skipping Wales data for lack of excess_mortality.\n",
      "****skipping Wallis and Futuna data for lack of excess_mortality.\n"
     ]
    },
    {
     "data": {
      "text/plain": [
       "(37897, 18)"
      ]
     },
     "execution_count": 35,
     "metadata": {},
     "output_type": "execute_result"
    }
   ],
   "source": [
    "freq = 3 \n",
    "\n",
    "# creating labels of catetorical classes\n",
    "range_end = 21 \n",
    "lst_overall=create_overall_period_lst(freq,range_end)\n",
    "\n",
    "use_lst = ['location','date','new_deaths','new_deaths_smoothed','excess_mortality'] + lst_overall #lst_1dose + lst_2dose + lst_3dose\n",
    "new_df_overall = pd.DataFrame(columns=use_lst)\n",
    "start_date_ref = '2021-01-01'\n",
    "start_date_data = '2020-12-01'\n",
    "#start_date_data = '2020-09-01'\n",
    "end_date = '2023-03-31'\n",
    "#end_date = '2023-01-01'\n",
    "#end_date = '2022-12-31'\n",
    "\n",
    "new_df_overall = feature_extraction_overall(df,use_Country_lst,use_lst,start_date_data,start_date_ref, end_date, freq) # 62 countries"
   ]
  },
  {
   "cell_type": "code",
   "execution_count": 36,
   "id": "de68e62d",
   "metadata": {},
   "outputs": [
    {
     "data": {
      "text/plain": [
       "((37855, 28), (37897, 18))"
      ]
     },
     "execution_count": 36,
     "metadata": {},
     "output_type": "execute_result"
    }
   ],
   "source": [
    "new_df.shape,new_df_overall.shape"
   ]
  },
  {
   "cell_type": "code",
   "execution_count": 39,
   "id": "029cdb0f",
   "metadata": {
    "scrolled": true
   },
   "outputs": [],
   "source": [
    "new_join_df = pd.merge(new_df, new_df_overall[['location','date']+lst_overall],  how='inner', on=['location','date']) #, right_on = ['B_c1','c2'])"
   ]
  },
  {
   "cell_type": "markdown",
   "id": "52e91d83",
   "metadata": {},
   "source": [
    "### check # of countries using Weekly or Monthly update"
   ]
  },
  {
   "cell_type": "code",
   "execution_count": 40,
   "id": "facca34d",
   "metadata": {},
   "outputs": [
    {
     "name": "stdout",
     "output_type": "stream",
     "text": [
      "Weekly : 35; Monthly : 20.\n"
     ]
    }
   ],
   "source": [
    "tmp_lst = []\n",
    "for Countryname in new_df.location.unique():\n",
    "    per,cnt = np.unique(new_df[new_df['location']==Countryname]['excess_mortality'],return_counts=True)\n",
    "    cnt_lst=list(set(cnt))\n",
    "    tmp_lst.append((Countryname,cnt_lst))\n",
    "print('Weekly : {}; Monthly : {}.'.format(len([x for x in tmp_lst if 7 in x[1]]),len([x for x in tmp_lst if 7 not in x[1]])))"
   ]
  },
  {
   "cell_type": "markdown",
   "id": "aa226f5d",
   "metadata": {},
   "source": [
    "### Model running\n",
    "### Use only covid death "
   ]
  },
  {
   "cell_type": "code",
   "execution_count": 41,
   "id": "54b499f3",
   "metadata": {},
   "outputs": [
    {
     "name": "stdout",
     "output_type": "stream",
     "text": [
      "\u001b[1mAssume Weekly update:\u001b[0m\n",
      "\u001b[1mFor Sunday:\u001b[0m\n",
      "                          new_deaths_smoothed_Norm  re_est_ex_mortality_Norm\n",
      "new_deaths_smoothed_Norm                  1.000000                  0.585405\n",
      "re_est_ex_mortality_Norm                  0.585405                  1.000000\n",
      "[LR_MDL] Self-Rmse for All is : 0.03969873979157342\n",
      "Self-R2 is : 0.3426991509526437\n",
      "Cross-validataion R2 : [0.37487925 0.2919714  0.21825585 0.3834909  0.38282278].\n",
      "\u001b[1mCross-validataion R2 average : 0.33028403665390016.\u001b[0m\n",
      "Cross-validataion mse : [0.03710123650070921, 0.04132346500759667, 0.04140257271901674, 0.047308290853045665, 0.03271063887427759].\n",
      "\u001b[1mCross-validataion mse average : 0.03996924079092917.\u001b[0m\n",
      "[LR_MDL] Intercept is : 0.221883\n",
      "\u001b[1mLR model coeffecients.\u001b[0m\n",
      "                     params  linear_weights  p_value\n",
      "0  new_deaths_smoothed_Norm        0.616103      0.0\n"
     ]
    }
   ],
   "source": [
    "mdl_x_lst = ['new_deaths_smoothed_Norm'] # + lst_1dose+lst_2dose+lst_3dose\n",
    "mdl_y_lst = ['re_est_ex_mortality_Norm']\n",
    "#print('\\033[1m' + 'Assume Daily update:' + '\\033[0m')\n",
    "#lr_mdl, xgb, mean_r2_score, mean_rmse =run_new_model(new_df,mdl_x_lst,mdl_y_lst)\n",
    "print('\\033[1m' + 'Assume Weekly update:' + '\\033[0m')\n",
    "\n",
    "weekday_lst = ['Monday', 'Tuesday', 'Wednesday', 'Thursday', 'Friday', 'Saturday', 'Sunday']\n",
    "for weekday in weekday_lst[-1:]:\n",
    "    print('\\033[1m' + 'For {}:'.format(weekday) + '\\033[0m')\n",
    "    lr_mdl, res_df, mean_r2_score, mean_rmse = run_new_model(new_join_df[new_join_df['weekday']==weekday].reset_index(drop=True),mdl_x_lst,mdl_y_lst)\n"
   ]
  },
  {
   "cell_type": "markdown",
   "id": "5d837cef",
   "metadata": {},
   "source": [
    "### Use covid death + TPAVIs"
   ]
  },
  {
   "cell_type": "code",
   "execution_count": 42,
   "id": "de8cc0d8",
   "metadata": {},
   "outputs": [
    {
     "name": "stdout",
     "output_type": "stream",
     "text": [
      "\u001b[1mAssume Weekly update:\u001b[0m\n",
      "\u001b[1mFor Sunday:\u001b[0m\n",
      "                          new_deaths_smoothed_Norm  re_est_ex_mortality_Norm\n",
      "new_deaths_smoothed_Norm                  1.000000                  0.585405\n",
      "re_est_ex_mortality_Norm                  0.585405                  1.000000\n",
      "[LR_MDL] Self-Rmse for All is : 0.036949621918095144\n",
      "Self-R2 is : 0.38821690597095515\n",
      "Cross-validataion R2 : [0.38874606 0.36771216 0.26176617 0.38399243 0.40972839].\n",
      "\u001b[1mCross-validataion R2 average : 0.36238904368324976.\u001b[0m\n",
      "Cross-validataion mse : [0.03627823401588371, 0.03690292216234016, 0.039098188008692525, 0.04726980571359999, 0.0312846308988784].\n",
      "\u001b[1mCross-validataion mse average : 0.03816675615987895.\u001b[0m\n",
      "[LR_MDL] Intercept is : 0.17519\n",
      "\u001b[1mLR model coeffecients.\u001b[0m\n",
      "                      params  linear_weights   p_value\n",
      "0   new_deaths_smoothed_Norm        0.673618  0.000000\n",
      "1                 1dose_1_3m       -0.021966  0.153031\n",
      "2                 1dose_4_6m        0.043229  0.029742\n",
      "3                 1dose_7_9m        0.021324  0.367178\n",
      "4               1dose_10_12m        0.027707  0.314874\n",
      "5                 1dose_13m+       -0.086083  0.010878\n",
      "6                 2dose_1_3m       -0.030444  0.040287\n",
      "7                 2dose_4_6m       -0.030297  0.129321\n",
      "8                 2dose_7_9m        0.034922  0.155170\n",
      "9               2dose_10_12m        0.067061  0.021679\n",
      "10                2dose_13m+        0.058905  0.100726\n",
      "11                3dose_1_3m        0.027280  0.069170\n",
      "12                3dose_4_6m       -0.001653  0.935025\n",
      "13                3dose_7_9m        0.068030  0.002748\n",
      "14              3dose_10_12m        0.108377  0.000003\n",
      "15                3dose_13m+        0.135024  0.000000\n"
     ]
    }
   ],
   "source": [
    "mdl_x_lst = ['new_deaths_smoothed_Norm'] + lst_1dose+lst_2dose+lst_3dose\n",
    "mdl_y_lst = ['re_est_ex_mortality_Norm']\n",
    "#print('\\033[1m' + 'Assume Daily update:' + '\\033[0m')\n",
    "#lr_mdl, xgb, mean_r2_score, mean_rmse =run_new_model(new_df,mdl_x_lst,mdl_y_lst)\n",
    "print('\\033[1m' + 'Assume Weekly update:' + '\\033[0m')\n",
    "\n",
    "weekday_lst = ['Monday', 'Tuesday', 'Wednesday', 'Thursday', 'Friday', 'Saturday', 'Sunday']\n",
    "for weekday in weekday_lst[-1:]:\n",
    "    print('\\033[1m' + 'For {}:'.format(weekday) + '\\033[0m')\n",
    "    lr_mdl, res_df, mean_r2_score, mean_rmse = run_new_model(new_join_df[new_join_df['weekday']==weekday].reset_index(drop=True),mdl_x_lst,mdl_y_lst)"
   ]
  },
  {
   "cell_type": "code",
   "execution_count": 63,
   "id": "f8d84326",
   "metadata": {},
   "outputs": [
    {
     "data": {
      "text/html": [
       "<div>\n",
       "<style scoped>\n",
       "    .dataframe tbody tr th:only-of-type {\n",
       "        vertical-align: middle;\n",
       "    }\n",
       "\n",
       "    .dataframe tbody tr th {\n",
       "        vertical-align: top;\n",
       "    }\n",
       "\n",
       "    .dataframe thead th {\n",
       "        text-align: right;\n",
       "    }\n",
       "</style>\n",
       "<table border=\"1\" class=\"dataframe\">\n",
       "  <thead>\n",
       "    <tr style=\"text-align: right;\">\n",
       "      <th></th>\n",
       "      <th>params</th>\n",
       "      <th>linear_weights</th>\n",
       "      <th>p_value</th>\n",
       "    </tr>\n",
       "  </thead>\n",
       "  <tbody>\n",
       "    <tr>\n",
       "      <th>0</th>\n",
       "      <td>new_deaths_smoothed_Norm</td>\n",
       "      <td>0.673618</td>\n",
       "      <td>0.000000</td>\n",
       "    </tr>\n",
       "    <tr>\n",
       "      <th>1</th>\n",
       "      <td>1dose_1_3m</td>\n",
       "      <td>-0.021966</td>\n",
       "      <td>0.153031</td>\n",
       "    </tr>\n",
       "    <tr>\n",
       "      <th>2</th>\n",
       "      <td>1dose_4_6m</td>\n",
       "      <td>0.043229</td>\n",
       "      <td>0.029742</td>\n",
       "    </tr>\n",
       "    <tr>\n",
       "      <th>3</th>\n",
       "      <td>1dose_7_9m</td>\n",
       "      <td>0.021324</td>\n",
       "      <td>0.367178</td>\n",
       "    </tr>\n",
       "    <tr>\n",
       "      <th>4</th>\n",
       "      <td>1dose_10_12m</td>\n",
       "      <td>0.027707</td>\n",
       "      <td>0.314874</td>\n",
       "    </tr>\n",
       "    <tr>\n",
       "      <th>5</th>\n",
       "      <td>1dose_13m+</td>\n",
       "      <td>-0.086083</td>\n",
       "      <td>0.010878</td>\n",
       "    </tr>\n",
       "    <tr>\n",
       "      <th>6</th>\n",
       "      <td>2dose_1_3m</td>\n",
       "      <td>-0.030444</td>\n",
       "      <td>0.040287</td>\n",
       "    </tr>\n",
       "    <tr>\n",
       "      <th>7</th>\n",
       "      <td>2dose_4_6m</td>\n",
       "      <td>-0.030297</td>\n",
       "      <td>0.129321</td>\n",
       "    </tr>\n",
       "    <tr>\n",
       "      <th>8</th>\n",
       "      <td>2dose_7_9m</td>\n",
       "      <td>0.034922</td>\n",
       "      <td>0.155170</td>\n",
       "    </tr>\n",
       "    <tr>\n",
       "      <th>9</th>\n",
       "      <td>2dose_10_12m</td>\n",
       "      <td>0.067061</td>\n",
       "      <td>0.021679</td>\n",
       "    </tr>\n",
       "    <tr>\n",
       "      <th>10</th>\n",
       "      <td>2dose_13m+</td>\n",
       "      <td>0.058905</td>\n",
       "      <td>0.100726</td>\n",
       "    </tr>\n",
       "    <tr>\n",
       "      <th>11</th>\n",
       "      <td>3dose_1_3m</td>\n",
       "      <td>0.027280</td>\n",
       "      <td>0.069170</td>\n",
       "    </tr>\n",
       "    <tr>\n",
       "      <th>12</th>\n",
       "      <td>3dose_4_6m</td>\n",
       "      <td>-0.001653</td>\n",
       "      <td>0.935025</td>\n",
       "    </tr>\n",
       "    <tr>\n",
       "      <th>13</th>\n",
       "      <td>3dose_7_9m</td>\n",
       "      <td>0.068030</td>\n",
       "      <td>0.002748</td>\n",
       "    </tr>\n",
       "    <tr>\n",
       "      <th>14</th>\n",
       "      <td>3dose_10_12m</td>\n",
       "      <td>0.108377</td>\n",
       "      <td>0.000003</td>\n",
       "    </tr>\n",
       "    <tr>\n",
       "      <th>15</th>\n",
       "      <td>3dose_13m+</td>\n",
       "      <td>0.135024</td>\n",
       "      <td>0.000000</td>\n",
       "    </tr>\n",
       "  </tbody>\n",
       "</table>\n",
       "</div>"
      ],
      "text/plain": [
       "                      params  linear_weights   p_value\n",
       "0   new_deaths_smoothed_Norm        0.673618  0.000000\n",
       "1                 1dose_1_3m       -0.021966  0.153031\n",
       "2                 1dose_4_6m        0.043229  0.029742\n",
       "3                 1dose_7_9m        0.021324  0.367178\n",
       "4               1dose_10_12m        0.027707  0.314874\n",
       "5                 1dose_13m+       -0.086083  0.010878\n",
       "6                 2dose_1_3m       -0.030444  0.040287\n",
       "7                 2dose_4_6m       -0.030297  0.129321\n",
       "8                 2dose_7_9m        0.034922  0.155170\n",
       "9               2dose_10_12m        0.067061  0.021679\n",
       "10                2dose_13m+        0.058905  0.100726\n",
       "11                3dose_1_3m        0.027280  0.069170\n",
       "12                3dose_4_6m       -0.001653  0.935025\n",
       "13                3dose_7_9m        0.068030  0.002748\n",
       "14              3dose_10_12m        0.108377  0.000003\n",
       "15                3dose_13m+        0.135024  0.000000"
      ]
     },
     "execution_count": 63,
     "metadata": {},
     "output_type": "execute_result"
    }
   ],
   "source": [
    "res_df"
   ]
  },
  {
   "cell_type": "markdown",
   "id": "8a166991",
   "metadata": {},
   "source": [
    "### Use only covid death + TPARDs"
   ]
  },
  {
   "cell_type": "code",
   "execution_count": 43,
   "id": "4ba920d3",
   "metadata": {
    "scrolled": false
   },
   "outputs": [
    {
     "name": "stdout",
     "output_type": "stream",
     "text": [
      "\u001b[1mAssume Weekly update:\u001b[0m\n",
      "\u001b[1mFor Sunday:\u001b[0m\n",
      "                          new_deaths_smoothed_Norm  re_est_ex_mortality_Norm\n",
      "new_deaths_smoothed_Norm                  1.000000                  0.585405\n",
      "re_est_ex_mortality_Norm                  0.585405                  1.000000\n",
      "[LR_MDL] Self-Rmse for All is : 0.037160262279434975\n",
      "Self-R2 is : 0.3847292867397346\n",
      "Cross-validataion R2 : [0.36805927 0.36758739 0.27707591 0.38501495 0.42957583].\n",
      "\u001b[1mCross-validataion R2 average : 0.3654626688399268.\u001b[0m\n",
      "Cross-validataion mse : [0.03750600583976224, 0.03691020392406843, 0.038287356956785035, 0.04719134242335523, 0.030232708855263104].\n",
      "\u001b[1mCross-validataion mse average : 0.03802552359984681.\u001b[0m\n",
      "[LR_MDL] Intercept is : 0.225419\n",
      "\u001b[1mLR model coeffecients.\u001b[0m\n",
      "                     params  linear_weights   p_value\n",
      "0  new_deaths_smoothed_Norm        0.670038  0.000000\n",
      "1              overall_1_3m       -0.114989  0.000000\n",
      "2              overall_4_6m       -0.028083  0.040714\n",
      "3              overall_7_9m        0.011850  0.394623\n",
      "4            overall_10_12m        0.033969  0.013839\n",
      "5            overall_13_15m       -0.068898  0.000001\n",
      "6            overall_16_18m        0.000263  0.985292\n",
      "7            overall_19_21m        0.031342  0.029581\n",
      "8              overall_22m+        0.056010  0.000491\n"
     ]
    }
   ],
   "source": [
    "mdl_x_lst = ['new_deaths_smoothed_Norm'] + lst_overall # + lst_1dose+lst_2dose+lst_3dose\n",
    "mdl_y_lst = ['re_est_ex_mortality_Norm']\n",
    "#print('\\033[1m' + 'Assume Daily update:' + '\\033[0m')\n",
    "#lr_mdl, xgb, mean_r2_score, mean_rmse =run_new_model(new_df,mdl_x_lst,mdl_y_lst)\n",
    "print('\\033[1m' + 'Assume Weekly update:' + '\\033[0m')\n",
    "\n",
    "weekday_lst = ['Monday', 'Tuesday', 'Wednesday', 'Thursday', 'Friday', 'Saturday', 'Sunday']\n",
    "for weekday in weekday_lst[-1:]:\n",
    "    print('\\033[1m' + 'For {}:'.format(weekday) + '\\033[0m')\n",
    "    lr_mdl, res_df, mean_r2_score, mean_rmse = run_new_model(new_join_df[new_join_df['weekday']==weekday].reset_index(drop=True),mdl_x_lst,mdl_y_lst)"
   ]
  },
  {
   "cell_type": "markdown",
   "id": "0ef027ec",
   "metadata": {},
   "source": [
    "### Use only covid death + TPARDs + TPAVIs"
   ]
  },
  {
   "cell_type": "code",
   "execution_count": 62,
   "id": "c68b4a76",
   "metadata": {
    "scrolled": false
   },
   "outputs": [
    {
     "name": "stdout",
     "output_type": "stream",
     "text": [
      "\u001b[1mAssume Weekly update:\u001b[0m\n",
      "\u001b[1mFor Sunday:\u001b[0m\n",
      "                          new_deaths_smoothed_Norm  re_est_ex_mortality_Norm\n",
      "new_deaths_smoothed_Norm                  1.000000                  0.585405\n",
      "re_est_ex_mortality_Norm                  0.585405                  1.000000\n",
      "[LR_MDL] Self-Rmse for All is : 0.03578222245446586\n",
      "Self-R2 is : 0.40754579808817626\n",
      "Cross-validataion R2 : [0.39302153 0.39215097 0.27494945 0.39603813 0.42779495].\n",
      "\u001b[1mCross-validataion R2 average : 0.37679100549800093.\u001b[0m\n",
      "Cross-validataion mse : [0.036024483050252055, 0.03547657265103758, 0.038399977721242894, 0.04634547007422687, 0.030327096142882596].\n",
      "\u001b[1mCross-validataion mse average : 0.037314719927928404.\u001b[0m\n",
      "[LR_MDL] Intercept is : 0.202991\n",
      "\u001b[1mLR model coeffecients.\u001b[0m\n",
      "                      params  linear_weights   p_value\n",
      "0   new_deaths_smoothed_Norm        0.678877  0.000000\n",
      "1               overall_1_3m       -0.066335  0.000072\n",
      "2               overall_4_6m        0.053976  0.007203\n",
      "3               overall_7_9m        0.053773  0.015129\n",
      "4             overall_10_12m       -0.064714  0.004701\n",
      "5             overall_13_15m       -0.142511  0.000000\n",
      "6             overall_16_18m       -0.077208  0.000837\n",
      "7             overall_19_21m       -0.071430  0.003011\n",
      "8               overall_22m+       -0.066057  0.018590\n",
      "9                 1dose_1_3m       -0.005387  0.742230\n",
      "10                1dose_4_6m       -0.021842  0.313908\n",
      "11                1dose_7_9m       -0.035618  0.160106\n",
      "12              1dose_10_12m        0.048171  0.092218\n",
      "13                1dose_13m+       -0.037346  0.279554\n",
      "14                2dose_1_3m       -0.043969  0.003895\n",
      "15                2dose_4_6m       -0.047030  0.023466\n",
      "16                2dose_7_9m        0.037251  0.147449\n",
      "17              2dose_10_12m        0.082086  0.006714\n",
      "18                2dose_13m+        0.075696  0.038249\n",
      "19                3dose_1_3m        0.041906  0.005064\n",
      "20                3dose_4_6m        0.028880  0.153107\n",
      "21                3dose_7_9m        0.060684  0.009206\n",
      "22              3dose_10_12m        0.084018  0.001109\n",
      "23                3dose_13m+        0.109018  0.000175\n"
     ]
    }
   ],
   "source": [
    "mdl_x_lst = ['new_deaths_smoothed_Norm'] + lst_overall + lst_1dose+lst_2dose+lst_3dose\n",
    "mdl_y_lst = ['re_est_ex_mortality_Norm']\n",
    "#print('\\033[1m' + 'Assume Daily update:' + '\\033[0m')\n",
    "#lr_mdl, xgb, mean_r2_score, mean_rmse =run_new_model(new_df,mdl_x_lst,mdl_y_lst)\n",
    "print('\\033[1m' + 'Assume Weekly update:' + '\\033[0m')\n",
    "\n",
    "weekday_lst = ['Monday', 'Tuesday', 'Wednesday', 'Thursday', 'Friday', 'Saturday', 'Sunday']\n",
    "for weekday in weekday_lst[-1:]:\n",
    "    print('\\033[1m' + 'For {}:'.format(weekday) + '\\033[0m')\n",
    "    lr_mdl, res_df, mean_r2_score, mean_rmse = run_new_model(new_join_df[new_join_df['weekday']==weekday].reset_index(drop=True),mdl_x_lst,mdl_y_lst)"
   ]
  },
  {
   "cell_type": "code",
   "execution_count": 69,
   "id": "95c205dd",
   "metadata": {},
   "outputs": [
    {
     "data": {
      "text/html": [
       "<div>\n",
       "<style scoped>\n",
       "    .dataframe tbody tr th:only-of-type {\n",
       "        vertical-align: middle;\n",
       "    }\n",
       "\n",
       "    .dataframe tbody tr th {\n",
       "        vertical-align: top;\n",
       "    }\n",
       "\n",
       "    .dataframe thead th {\n",
       "        text-align: right;\n",
       "    }\n",
       "</style>\n",
       "<table border=\"1\" class=\"dataframe\">\n",
       "  <thead>\n",
       "    <tr style=\"text-align: right;\">\n",
       "      <th></th>\n",
       "      <th>params</th>\n",
       "      <th>linear_weights</th>\n",
       "      <th>p_value</th>\n",
       "    </tr>\n",
       "  </thead>\n",
       "  <tbody>\n",
       "    <tr>\n",
       "      <th>0</th>\n",
       "      <td>new_deaths_smoothed_Norm</td>\n",
       "      <td>0.678877</td>\n",
       "      <td>0.000000</td>\n",
       "    </tr>\n",
       "    <tr>\n",
       "      <th>1</th>\n",
       "      <td>overall_1_3m</td>\n",
       "      <td>-0.066335</td>\n",
       "      <td>0.000072</td>\n",
       "    </tr>\n",
       "    <tr>\n",
       "      <th>2</th>\n",
       "      <td>overall_4_6m</td>\n",
       "      <td>0.053976</td>\n",
       "      <td>0.007203</td>\n",
       "    </tr>\n",
       "    <tr>\n",
       "      <th>3</th>\n",
       "      <td>overall_7_9m</td>\n",
       "      <td>0.053773</td>\n",
       "      <td>0.015129</td>\n",
       "    </tr>\n",
       "    <tr>\n",
       "      <th>4</th>\n",
       "      <td>overall_10_12m</td>\n",
       "      <td>-0.064714</td>\n",
       "      <td>0.004701</td>\n",
       "    </tr>\n",
       "    <tr>\n",
       "      <th>5</th>\n",
       "      <td>overall_13_15m</td>\n",
       "      <td>-0.142511</td>\n",
       "      <td>0.000000</td>\n",
       "    </tr>\n",
       "    <tr>\n",
       "      <th>6</th>\n",
       "      <td>overall_16_18m</td>\n",
       "      <td>-0.077208</td>\n",
       "      <td>0.000837</td>\n",
       "    </tr>\n",
       "    <tr>\n",
       "      <th>7</th>\n",
       "      <td>overall_19_21m</td>\n",
       "      <td>-0.071430</td>\n",
       "      <td>0.003011</td>\n",
       "    </tr>\n",
       "    <tr>\n",
       "      <th>8</th>\n",
       "      <td>overall_22m+</td>\n",
       "      <td>-0.066057</td>\n",
       "      <td>0.018590</td>\n",
       "    </tr>\n",
       "    <tr>\n",
       "      <th>9</th>\n",
       "      <td>1dose_1_3m</td>\n",
       "      <td>-0.005387</td>\n",
       "      <td>0.742230</td>\n",
       "    </tr>\n",
       "    <tr>\n",
       "      <th>10</th>\n",
       "      <td>1dose_4_6m</td>\n",
       "      <td>-0.021842</td>\n",
       "      <td>0.313908</td>\n",
       "    </tr>\n",
       "    <tr>\n",
       "      <th>11</th>\n",
       "      <td>1dose_7_9m</td>\n",
       "      <td>-0.035618</td>\n",
       "      <td>0.160106</td>\n",
       "    </tr>\n",
       "    <tr>\n",
       "      <th>12</th>\n",
       "      <td>1dose_10_12m</td>\n",
       "      <td>0.048171</td>\n",
       "      <td>0.092218</td>\n",
       "    </tr>\n",
       "    <tr>\n",
       "      <th>13</th>\n",
       "      <td>1dose_13m+</td>\n",
       "      <td>-0.037346</td>\n",
       "      <td>0.279554</td>\n",
       "    </tr>\n",
       "    <tr>\n",
       "      <th>14</th>\n",
       "      <td>2dose_1_3m</td>\n",
       "      <td>-0.043969</td>\n",
       "      <td>0.003895</td>\n",
       "    </tr>\n",
       "    <tr>\n",
       "      <th>15</th>\n",
       "      <td>2dose_4_6m</td>\n",
       "      <td>-0.047030</td>\n",
       "      <td>0.023466</td>\n",
       "    </tr>\n",
       "    <tr>\n",
       "      <th>16</th>\n",
       "      <td>2dose_7_9m</td>\n",
       "      <td>0.037251</td>\n",
       "      <td>0.147449</td>\n",
       "    </tr>\n",
       "    <tr>\n",
       "      <th>17</th>\n",
       "      <td>2dose_10_12m</td>\n",
       "      <td>0.082086</td>\n",
       "      <td>0.006714</td>\n",
       "    </tr>\n",
       "    <tr>\n",
       "      <th>18</th>\n",
       "      <td>2dose_13m+</td>\n",
       "      <td>0.075696</td>\n",
       "      <td>0.038249</td>\n",
       "    </tr>\n",
       "    <tr>\n",
       "      <th>19</th>\n",
       "      <td>3dose_1_3m</td>\n",
       "      <td>0.041906</td>\n",
       "      <td>0.005064</td>\n",
       "    </tr>\n",
       "    <tr>\n",
       "      <th>20</th>\n",
       "      <td>3dose_4_6m</td>\n",
       "      <td>0.028880</td>\n",
       "      <td>0.153107</td>\n",
       "    </tr>\n",
       "    <tr>\n",
       "      <th>21</th>\n",
       "      <td>3dose_7_9m</td>\n",
       "      <td>0.060684</td>\n",
       "      <td>0.009206</td>\n",
       "    </tr>\n",
       "    <tr>\n",
       "      <th>22</th>\n",
       "      <td>3dose_10_12m</td>\n",
       "      <td>0.084018</td>\n",
       "      <td>0.001109</td>\n",
       "    </tr>\n",
       "    <tr>\n",
       "      <th>23</th>\n",
       "      <td>3dose_13m+</td>\n",
       "      <td>0.109018</td>\n",
       "      <td>0.000175</td>\n",
       "    </tr>\n",
       "  </tbody>\n",
       "</table>\n",
       "</div>"
      ],
      "text/plain": [
       "                      params  linear_weights   p_value\n",
       "0   new_deaths_smoothed_Norm        0.678877  0.000000\n",
       "1               overall_1_3m       -0.066335  0.000072\n",
       "2               overall_4_6m        0.053976  0.007203\n",
       "3               overall_7_9m        0.053773  0.015129\n",
       "4             overall_10_12m       -0.064714  0.004701\n",
       "5             overall_13_15m       -0.142511  0.000000\n",
       "6             overall_16_18m       -0.077208  0.000837\n",
       "7             overall_19_21m       -0.071430  0.003011\n",
       "8               overall_22m+       -0.066057  0.018590\n",
       "9                 1dose_1_3m       -0.005387  0.742230\n",
       "10                1dose_4_6m       -0.021842  0.313908\n",
       "11                1dose_7_9m       -0.035618  0.160106\n",
       "12              1dose_10_12m        0.048171  0.092218\n",
       "13                1dose_13m+       -0.037346  0.279554\n",
       "14                2dose_1_3m       -0.043969  0.003895\n",
       "15                2dose_4_6m       -0.047030  0.023466\n",
       "16                2dose_7_9m        0.037251  0.147449\n",
       "17              2dose_10_12m        0.082086  0.006714\n",
       "18                2dose_13m+        0.075696  0.038249\n",
       "19                3dose_1_3m        0.041906  0.005064\n",
       "20                3dose_4_6m        0.028880  0.153107\n",
       "21                3dose_7_9m        0.060684  0.009206\n",
       "22              3dose_10_12m        0.084018  0.001109\n",
       "23                3dose_13m+        0.109018  0.000175"
      ]
     },
     "execution_count": 69,
     "metadata": {},
     "output_type": "execute_result"
    }
   ],
   "source": [
    "res_df"
   ]
  },
  {
   "cell_type": "markdown",
   "id": "7c38d4be",
   "metadata": {},
   "source": [
    "# Comparison between excess mortality caused by COVID death and TPAVIs"
   ]
  },
  {
   "cell_type": "code",
   "execution_count": 90,
   "id": "af677ea9",
   "metadata": {},
   "outputs": [
    {
     "name": "stdout",
     "output_type": "stream",
     "text": [
      "COVID death : 0.13438757285910316\n",
      "TPAVIs : 0.13937609648294946\n",
      "\n"
     ]
    }
   ],
   "source": [
    "lst1=[]\n",
    "lst2=[]\n",
    "for Countryname in new_join_df['location'].unique():\n",
    "    #print(Countryname)\n",
    "    tmp_covid, tmp_vax = cal_ex_death_by_covid_vax(new_join_df,lr_mdl,Countryname,mdl_x_lst[9:],'2020-12-01')\n",
    "    lst1.append(tmp_covid)\n",
    "    lst2.append(tmp_vax)\n",
    "print('COVID death : {}\\nTPAVIs : {}\\n'.format(np.mean(lst1),np.mean(lst2)))"
   ]
  },
  {
   "cell_type": "code",
   "execution_count": 99,
   "id": "21e98168",
   "metadata": {},
   "outputs": [
    {
     "name": "stdout",
     "output_type": "stream",
     "text": [
      "\u001b[1mAssume Weekly update:\u001b[0m\n",
      "\u001b[1mFor Sunday:\u001b[0m\n",
      "                          new_deaths_smoothed_Norm  re_est_ex_mortality_Norm\n",
      "new_deaths_smoothed_Norm                  1.000000                  0.585405\n",
      "re_est_ex_mortality_Norm                  0.585405                  1.000000\n",
      "[LR_MDL] Self-Rmse for All is : 0.03578222245446586\n",
      "Self-R2 is : 0.40754579808817626\n",
      "Cross-validataion R2 : [0.39302153 0.39215097 0.27494945 0.39603813 0.42779495].\n",
      "\u001b[1mCross-validataion R2 average : 0.37679100549800093.\u001b[0m\n",
      "Cross-validataion mse : [0.036024483050252055, 0.03547657265103758, 0.038399977721242894, 0.04634547007422687, 0.030327096142882596].\n",
      "\u001b[1mCross-validataion mse average : 0.037314719927928404.\u001b[0m\n",
      "[LR_MDL] Intercept is : 0.202991\n",
      "\u001b[1mLR model coeffecients.\u001b[0m\n",
      "                      params  linear_weights   p_value\n",
      "0   new_deaths_smoothed_Norm        0.678877  0.000000\n",
      "1               overall_1_3m       -0.066335  0.000072\n",
      "2               overall_4_6m        0.053976  0.007203\n",
      "3               overall_7_9m        0.053773  0.015129\n",
      "4             overall_10_12m       -0.064714  0.004701\n",
      "5             overall_13_15m       -0.142511  0.000000\n",
      "6             overall_16_18m       -0.077208  0.000837\n",
      "7             overall_19_21m       -0.071430  0.003011\n",
      "8               overall_22m+       -0.066057  0.018590\n",
      "9                 1dose_1_3m       -0.005387  0.742230\n",
      "10                1dose_4_6m       -0.021842  0.313908\n",
      "11                1dose_7_9m       -0.035618  0.160106\n",
      "12              1dose_10_12m        0.048171  0.092218\n",
      "13                1dose_13m+       -0.037346  0.279554\n",
      "14                2dose_1_3m       -0.043969  0.003895\n",
      "15                2dose_4_6m       -0.047030  0.023466\n",
      "16                2dose_7_9m        0.037251  0.147449\n",
      "17              2dose_10_12m        0.082086  0.006714\n",
      "18                2dose_13m+        0.075696  0.038249\n",
      "19                3dose_1_3m        0.041906  0.005064\n",
      "20                3dose_4_6m        0.028880  0.153107\n",
      "21                3dose_7_9m        0.060684  0.009206\n",
      "22              3dose_10_12m        0.084018  0.001109\n",
      "23                3dose_13m+        0.109018  0.000175\n"
     ]
    }
   ],
   "source": [
    "mdl_x_lst = ['new_deaths_smoothed_Norm'] + lst_overall + lst_1dose+lst_2dose+lst_3dose # + lst_max_dose_rate #[1:]\n",
    "mdl_y_lst = ['re_est_ex_mortality_Norm']\n",
    "#print('\\033[1m' + 'Assume Daily update:' + '\\033[0m')\n",
    "#lr_mdl, xgb, mean_r2_score, mean_rmse =run_new_model(new_df,mdl_x_lst,mdl_y_lst)\n",
    "print('\\033[1m' + 'Assume Weekly update:' + '\\033[0m')\n",
    "\n",
    "weekday_lst = ['Monday', 'Tuesday', 'Wednesday', 'Thursday', 'Friday', 'Saturday', 'Sunday']\n",
    "for weekday in weekday_lst[-1:]:\n",
    "    print('\\033[1m' + 'For {}:'.format(weekday) + '\\033[0m')\n",
    "    lr_mdl, res_df, mean_r2_score, mean_rmse = run_new_model(new_join_df[new_join_df['weekday']==weekday].reset_index(drop=True),mdl_x_lst,mdl_y_lst)"
   ]
  },
  {
   "cell_type": "code",
   "execution_count": 67,
   "id": "dbc33c3d",
   "metadata": {},
   "outputs": [],
   "source": [
    "season_data_lst = ['2020_Winter',\n",
    "'2021_Spring',\n",
    "'2021_Summer',\n",
    "'2021_Fall',\n",
    "'2021_Winter',\n",
    "'2022_Spring',\n",
    "'2022_Summer',\n",
    "'2022_Fall~']"
   ]
  },
  {
   "cell_type": "code",
   "execution_count": 68,
   "id": "f3c6b2f8",
   "metadata": {},
   "outputs": [
    {
     "data": {
      "image/png": "[encoded data removed]",
      "text/plain": [
       "<Figure size 720x480 with 1 Axes>"
      ]
     },
     "metadata": {
      "needs_background": "light"
     },
     "output_type": "display_data"
    }
   ],
   "source": [
    "save_path = 'results'\n",
    "fig,ax = plt.subplots()\n",
    "ax.tick_params(axis='x', labelrotation=45)\n",
    "plt.plot(season_data_lst,res_df['linear_weights'].iloc[1:9])\n",
    "fig.set_dpi(120)\n",
    "plt.tight_layout()\n",
    "fig.savefig('/'.join([save_path,'overall_coefs.png']), facecolor='white', transparent=False)"
   ]
  },
  {
   "cell_type": "markdown",
   "id": "e4381c01",
   "metadata": {},
   "source": [
    "# Plot Portugal vax rate"
   ]
  },
  {
   "cell_type": "code",
   "execution_count": 507,
   "id": "43b9748b",
   "metadata": {
    "scrolled": true
   },
   "outputs": [
    {
     "name": "stderr",
     "output_type": "stream",
     "text": [
      "/var/folders/g2/q79cxj1s6d148dc_pt98ggx40000gn/T/ipykernel_20084/2819253437.py:6: SettingWithCopyWarning: \n",
      "A value is trying to be set on a copy of a slice from a DataFrame\n",
      "\n",
      "See the caveats in the documentation: https://pandas.pydata.org/pandas-docs/stable/user_guide/indexing.html#returning-a-view-versus-a-copy\n",
      "  tmp_df['people_vaccinated_per_hundred'][i] = tmp_df['people_vaccinated_per_hundred'][i-1]\n",
      "/var/folders/g2/q79cxj1s6d148dc_pt98ggx40000gn/T/ipykernel_20084/2819253437.py:8: SettingWithCopyWarning: \n",
      "A value is trying to be set on a copy of a slice from a DataFrame\n",
      "\n",
      "See the caveats in the documentation: https://pandas.pydata.org/pandas-docs/stable/user_guide/indexing.html#returning-a-view-versus-a-copy\n",
      "  tmp_df['people_fully_vaccinated_per_hundred'][i]= tmp_df['people_fully_vaccinated_per_hundred'][i-1]\n",
      "/var/folders/g2/q79cxj1s6d148dc_pt98ggx40000gn/T/ipykernel_20084/2819253437.py:10: SettingWithCopyWarning: \n",
      "A value is trying to be set on a copy of a slice from a DataFrame\n",
      "\n",
      "See the caveats in the documentation: https://pandas.pydata.org/pandas-docs/stable/user_guide/indexing.html#returning-a-view-versus-a-copy\n",
      "  tmp_df['total_boosters_per_hundred'][i] = tmp_df['total_boosters_per_hundred'][i-1]\n"
     ]
    },
    {
     "data": {
      "image/png": "[encoded data removed]",
      "text/plain": [
       "<Figure size 1200x600 with 1 Axes>"
      ]
     },
     "metadata": {
      "needs_background": "light"
     },
     "output_type": "display_data"
    }
   ],
   "source": [
    "plot_vax_rate(df,'Portugal')"
   ]
  },
  {
   "cell_type": "code",
   "execution_count": 983,
   "id": "b6a17025",
   "metadata": {
    "scrolled": true
   },
   "outputs": [
    {
     "data": {
      "image/png": "[encoded data removed]",
      "text/plain": [
       "<Figure size 720x480 with 1 Axes>"
      ]
     },
     "metadata": {
      "needs_background": "light"
     },
     "output_type": "display_data"
    },
    {
     "data": {
      "image/png": "[encoded data removed]",
      "text/plain": [
       "<Figure size 720x480 with 1 Axes>"
      ]
     },
     "metadata": {
      "needs_background": "light"
     },
     "output_type": "display_data"
    },
    {
     "data": {
      "image/png": "[encoded data removed]",
      "text/plain": [
       "<Figure size 720x480 with 1 Axes>"
      ]
     },
     "metadata": {
      "needs_background": "light"
     },
     "output_type": "display_data"
    },
    {
     "data": {
      "image/png": "[encoded data removed]",
      "text/plain": [
       "<Figure size 720x480 with 1 Axes>"
      ]
     },
     "metadata": {
      "needs_background": "light"
     },
     "output_type": "display_data"
    },
    {
     "data": {
      "image/png": "[encoded data removed]",
      "text/plain": [
       "<Figure size 720x480 with 1 Axes>"
      ]
     },
     "metadata": {
      "needs_background": "light"
     },
     "output_type": "display_data"
    },
    {
     "data": {
      "image/png": "[encoded data removed]",
      "text/plain": [
       "<Figure size 720x480 with 1 Axes>"
      ]
     },
     "metadata": {
      "needs_background": "light"
     },
     "output_type": "display_data"
    },
    {
     "data": {
      "image/png": "[encoded data removed]",
      "text/plain": [
       "<Figure size 720x480 with 1 Axes>"
      ]
     },
     "metadata": {
      "needs_background": "light"
     },
     "output_type": "display_data"
    }
   ],
   "source": [
    "#rate_lst = [0,0.5,1.0,2.0,3.0,4.0,5.0,10.0] #0.5,\n",
    "rate_lst = [0,0.5,1.0,1.5,2.0,2.5,5.0,10.0] #0.5,\n",
    "\n",
    "save_path = 'long_tail_histogram'\n",
    "os.makedirs(save_path,exist_ok=True)\n",
    "lst_1dose_all = []\n",
    "lst_2dose_all = []\n",
    "lst_3dose_all = []\n",
    "\n",
    "\n",
    "for Countryname in new_df.location.unique().tolist():\n",
    "    tmp_df=df[df['location']==Countryname].reset_index(drop=True)\n",
    "    lst_1dose = []\n",
    "    lst_2dose = []\n",
    "    lst_3dose = []\n",
    "    st_per = rate_lst[0]\n",
    "    for et_per in rate_lst[1:]:\n",
    "        st_1dose = tmp_df[tmp_df['people_vaccinated_per_hundred']>st_per]['date'].iloc[0]\n",
    "        et_1dose = tmp_df[tmp_df['people_vaccinated_per_hundred']>=et_per]['date'].iloc[0]\n",
    "        st = datetime.strptime(st_1dose,'%Y-%m-%d')\n",
    "        et = datetime.strptime(et_1dose,'%Y-%m-%d')\n",
    "        lst_1dose.append((et - st).days)\n",
    "        #print(st_per,et_per,st_1dose,et_1dose,(et - st).days)\n",
    "        \n",
    "        st_2dose = tmp_df[tmp_df['people_fully_vaccinated_per_hundred']>st_per]['date'].iloc[0]\n",
    "        et_2dose = tmp_df[tmp_df['people_fully_vaccinated_per_hundred']>=et_per]['date'].iloc[0]\n",
    "        st = datetime.strptime(st_2dose,'%Y-%m-%d')\n",
    "        et = datetime.strptime(et_2dose,'%Y-%m-%d')\n",
    "        lst_2dose.append((et - st).days)\n",
    "        #print(st_per,et_per,st_2dose,et_2dose,(et - st).days)\n",
    "\n",
    "        st_3dose = tmp_df[tmp_df['total_boosters_per_hundred']>st_per]['date'].iloc[0]\n",
    "        et_3dose = tmp_df[tmp_df['total_boosters_per_hundred']>=et_per]['date'].iloc[0]\n",
    "        st = datetime.strptime(st_3dose,'%Y-%m-%d')\n",
    "        et = datetime.strptime(et_3dose,'%Y-%m-%d')\n",
    "        lst_3dose.append((et - st).days)\n",
    "        #print(st_per,et_per,st_3dose,et_3dose,(et - st).days)\n",
    "        st_per = et_per\n",
    "    #print(Countryname,lst_3dose) #lst_1dose,lst_2dose,\n",
    "    lst_1dose_all.append((Countryname,lst_1dose))\n",
    "    lst_2dose_all.append((Countryname,lst_2dose))\n",
    "    lst_3dose_all.append((Countryname,lst_3dose))\n",
    "\n",
    "n_dpi=120\n",
    "for i in range(len(lst_3dose_all[0][1])):\n",
    "    fig,ax = plt.subplots()\n",
    "    tmp_lst = [x[1][i] for x in lst_3dose_all]\n",
    "    plt.hist(tmp_lst,bins=20)\n",
    "    plt.title('{} -> {}'.format(rate_lst[i],rate_lst[i+1]))\n",
    "    fig.set_dpi(n_dpi)\n",
    "    outfig = '{}/3rd_{}->{}.png'.format(save_path,rate_lst[i],rate_lst[i+1])\n",
    "    fig.savefig(outfig,facecolor='white', transparent=False)"
   ]
  },
  {
   "cell_type": "code",
   "execution_count": 984,
   "id": "761605bf",
   "metadata": {
    "scrolled": true
   },
   "outputs": [
    {
     "name": "stdout",
     "output_type": "stream",
     "text": [
      "['Austria', 'Canada', 'Denmark', 'Estonia', 'France', 'Germany', 'Lithuania', 'Luxembourg', 'Norway', 'Portugal', 'Uruguay']\n",
      "Total 11 countries >= 60 days.\n"
     ]
    }
   ],
   "source": [
    "long_3rd_lst = []\n",
    "for x in lst_3dose_all:\n",
    "    if x[1][0] >= 60 : \n",
    "        long_3rd_lst.append(x[0])\n",
    "print(long_3rd_lst)\n",
    "print('Total {} countries >= 60 days.'.format(len(long_3rd_lst)))"
   ]
  },
  {
   "cell_type": "markdown",
   "id": "e2435814",
   "metadata": {},
   "source": [
    "## Cal mean vax rate of above countries"
   ]
  },
  {
   "cell_type": "code",
   "execution_count": 89,
   "id": "a8347d5e",
   "metadata": {
    "scrolled": true
   },
   "outputs": [
    {
     "name": "stdout",
     "output_type": "stream",
     "text": [
      "Average :  77.51254545454546 72.47072727272727 51.98109090909091\n"
     ]
    }
   ],
   "source": [
    "dose1_rate_lst = []\n",
    "dose2_rate_lst = []\n",
    "dose3_rate_lst = []\n",
    "\n",
    "for Countryname in new_join_df.location.unique().tolist():\n",
    "    #if Countryname == 'Sweden':\n",
    "    #    continue\n",
    "    tmp_df = df[(df['location'] == Countryname)&(df['date']<'2022-06-31')].reset_index(drop=True)\n",
    "    dose1_rate = tmp_df['people_vaccinated_per_hundred'].max()\n",
    "    dose2_rate = tmp_df['people_fully_vaccinated_per_hundred'].max()\n",
    "    dose3_rate = tmp_df['total_boosters_per_hundred'].max()\n",
    "    dose1_rate_lst.append(dose1_rate)\n",
    "    dose2_rate_lst.append(dose2_rate)\n",
    "    dose3_rate_lst.append(dose3_rate)\n",
    "    #print(Countryname,dose1_rate,dose2_rate,dose3_rate)\n",
    "print('Average : ', np.mean(dose1_rate_lst),np.mean(dose2_rate_lst),np.mean(dose3_rate_lst))"
   ]
  }
 ],
 "metadata": {
  "kernelspec": {
   "display_name": "Python 3 (ipykernel)",
   "language": "python",
   "name": "python3"
  },
  "language_info": {
   "codemirror_mode": {
    "name": "ipython",
    "version": 3
   },
   "file_extension": ".py",
   "mimetype": "text/x-python",
   "name": "python",
   "nbconvert_exporter": "python",
   "pygments_lexer": "ipython3",
   "version": "3.9.7"
  }
 },
 "nbformat": 4,
 "nbformat_minor": 5
}
